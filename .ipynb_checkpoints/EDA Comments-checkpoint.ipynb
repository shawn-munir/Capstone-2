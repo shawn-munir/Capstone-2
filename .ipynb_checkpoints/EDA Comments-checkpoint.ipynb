{
 "cells": [
  {
   "cell_type": "markdown",
   "id": "2c4a19a0",
   "metadata": {},
   "source": [
    "My dataset involves ONLY images, which is what makes it novel, there is no tabular data, at least that is the aim.\n",
    "Whatever EDA was possible given this situation has been done, namely closely manually sifting thru training & test\n",
    "pictures (especially training) to start off with simplicity and CONSISTENCY to see how it responds with that before\n",
    "attempting more advanced maneuvers. After the testing set was refined and simplified, then the training set was\n",
    "also refined so as to both not be too easy nor too complex"
   ]
  }
 ],
 "metadata": {
  "kernelspec": {
   "display_name": "Python 3 (ipykernel)",
   "language": "python",
   "name": "python3"
  },
  "language_info": {
   "codemirror_mode": {
    "name": "ipython",
    "version": 3
   },
   "file_extension": ".py",
   "mimetype": "text/x-python",
   "name": "python",
   "nbconvert_exporter": "python",
   "pygments_lexer": "ipython3",
   "version": "3.8.12"
  }
 },
 "nbformat": 4,
 "nbformat_minor": 5
}
